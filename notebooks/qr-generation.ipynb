{
 "cells": [
  {
   "cell_type": "code",
   "execution_count": 6,
   "metadata": {},
   "outputs": [],
   "source": [
    "import qrcode\n",
    "import json\n",
    "\n",
    "qr = qrcode.QRCode(error_correction=qrcode.constants.ERROR_CORRECT_L)\n",
    "\n",
    "qr.add_data(\n",
    "    json.dumps(\n",
    "        {\n",
    "            \"dictionary\": \"DICT_4X4_50\",\n",
    "            \"marker_size_px\": 1,\n",
    "            \"margin_px\": 1,\n",
    "            \"corner_markers\": {\n",
    "                \"TL\": {\"id\": 0, \"corner_index\": 0},\n",
    "                \"TR\": {\"id\": 1, \"corner_index\": 1},\n",
    "                \"BR\": {\"id\": 2, \"corner_index\": 2},\n",
    "                \"BL\": {\"id\": 3, \"corner_index\": 3},\n",
    "            },\n",
    "            \"screen_aspect\": round(1, 3),\n",
    "        }\n",
    "    )\n",
    ")\n",
    "\n",
    "qr.make(fit=True)\n",
    "\n",
    "img = qr.make_image(fill_color=\"black\", back_color=\"white\")\n",
    "\n",
    "img.show()\n"
   ]
  }
 ],
 "metadata": {
  "kernelspec": {
   "display_name": ".venv",
   "language": "python",
   "name": "python3"
  },
  "language_info": {
   "codemirror_mode": {
    "name": "ipython",
    "version": 3
   },
   "file_extension": ".py",
   "mimetype": "text/x-python",
   "name": "python",
   "nbconvert_exporter": "python",
   "pygments_lexer": "ipython3",
   "version": "3.13.3"
  }
 },
 "nbformat": 4,
 "nbformat_minor": 2
}
