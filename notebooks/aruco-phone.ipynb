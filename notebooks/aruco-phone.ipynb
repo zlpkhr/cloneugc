{
 "cells": [
  {
   "cell_type": "code",
   "execution_count": 27,
   "metadata": {},
   "outputs": [
    {
     "name": "stdout",
     "output_type": "stream",
     "text": [
      "Aruco is available.\n"
     ]
    }
   ],
   "source": [
    "import cv2\n",
    "\n",
    "if hasattr(cv2, \"aruco\"):\n",
    "    print(\"Aruco is available.\")\n"
   ]
  },
  {
   "cell_type": "code",
   "execution_count": null,
   "metadata": {},
   "outputs": [
    {
     "name": "stdout",
     "output_type": "stream",
     "text": [
      "finished → aruco_green_overlay.mp4\n"
     ]
    }
   ],
   "source": [
    "import cv2\n",
    "import numpy as np\n",
    "\n",
    "VIDEO_IN = \"aruco.mp4\"\n",
    "VIDEO_OUT = \"aruco_green_overlay.mp4\"\n",
    "\n",
    "DICT = cv2.aruco.DICT_4X4_50\n",
    "EXPECTED_IDS = [0, 1, 2, 3]  # TL-TR-BR-BL by your generator\n",
    "MARGIN_PX = 10  # same as generator\n",
    "ALPHA = 0.30  # overlay transparency\n",
    "\n",
    "# ───────────── video info ─────────────\n",
    "cap = cv2.VideoCapture(VIDEO_IN)\n",
    "fps = cap.get(cv2.CAP_PROP_FPS)\n",
    "w = int(cap.get(cv2.CAP_PROP_FRAME_WIDTH))\n",
    "h = int(cap.get(cv2.CAP_PROP_FRAME_HEIGHT))\n",
    "N = int(cap.get(cv2.CAP_PROP_FRAME_COUNT))\n",
    "cap.release()\n",
    "\n",
    "# ─────────── detector ───────────\n",
    "dictionary = cv2.aruco.getPredefinedDictionary(DICT)\n",
    "detector = cv2.aruco.ArucoDetector(dictionary, cv2.aruco.DetectorParameters())\n",
    "\n",
    "\n",
    "# helper to shift a marker-corner by the known margin\n",
    "def shift(pt, dx, dy):\n",
    "    return np.array([pt[0] + dx, pt[1] + dy], dtype=np.float32)\n",
    "\n",
    "\n",
    "# 1) pass: collect raw corner measurements  (NaN for “missing”)\n",
    "tracks = np.full((N, 4, 2), np.nan, dtype=np.float32)  # frame × corner × xy\n",
    "corner_map = {  # which marker-corner belongs to which screen corner\n",
    "    0: (0, (-MARGIN_PX, -MARGIN_PX)),  # TL  from marker-corner 0\n",
    "    1: (1, (MARGIN_PX, -MARGIN_PX)),  # TR  from marker-corner 1\n",
    "    2: (2, (MARGIN_PX, MARGIN_PX)),  # BR  from marker-corner 2\n",
    "    3: (3, (-MARGIN_PX, MARGIN_PX)),  # BL  from marker-corner 3\n",
    "}\n",
    "\n",
    "cap = cv2.VideoCapture(VIDEO_IN)\n",
    "for f in range(N):\n",
    "    ok, frame = cap.read()\n",
    "    if not ok:\n",
    "        break\n",
    "\n",
    "    corners, ids, _ = detector.detectMarkers(frame)\n",
    "    if ids is None:\n",
    "        continue\n",
    "\n",
    "    for idx, mid in enumerate(ids.flatten()):\n",
    "        if mid in corner_map:\n",
    "            c_idx, (dx, dy) = corner_map[mid]\n",
    "            pt = shift(corners[idx][0][c_idx], dx, dy)  # use the matching marker-corner\n",
    "            tracks[f, c_idx] = pt\n",
    "cap.release()\n",
    "\n",
    "# 1½) interpolate each corner track (x and y separately)\n",
    "for corner in range(4):\n",
    "    for dim in range(2):  # x then y\n",
    "        seq = tracks[:, corner, dim]\n",
    "        mask = ~np.isnan(seq)\n",
    "        if not mask.any():  # never happened, but be safe\n",
    "            continue\n",
    "        valid_idx = np.where(mask)[0]\n",
    "        valid_vals = seq[mask]\n",
    "        full_idx = np.arange(N)\n",
    "        seq[:] = np.interp(full_idx, valid_idx, valid_vals)\n",
    "\n",
    "# 2) pass: draw result\n",
    "fourcc = cv2.VideoWriter_fourcc(*\"mp4v\")\n",
    "out = cv2.VideoWriter(VIDEO_OUT, fourcc, fps, (w, h))\n",
    "\n",
    "cap = cv2.VideoCapture(VIDEO_IN)\n",
    "for f in range(N):\n",
    "    ok, frame = cap.read()\n",
    "    if not ok:\n",
    "        break\n",
    "\n",
    "    quad = tracks[f].astype(np.int32)\n",
    "    green = np.zeros_like(frame)\n",
    "    cv2.fillPoly(green, [quad], (0, 255, 0))\n",
    "    frame = cv2.addWeighted(frame, 1 - ALPHA, green, ALPHA, 0)\n",
    "    cv2.polylines(frame, [quad], True, (0, 255, 0), 2)\n",
    "\n",
    "    out.write(frame)\n",
    "\n",
    "cap.release()\n",
    "out.release()\n",
    "print(\"finished →\", VIDEO_OUT)\n"
   ]
  }
 ],
 "metadata": {
  "kernelspec": {
   "display_name": ".venv",
   "language": "python",
   "name": "python3"
  },
  "language_info": {
   "codemirror_mode": {
    "name": "ipython",
    "version": 3
   },
   "file_extension": ".py",
   "mimetype": "text/x-python",
   "name": "python",
   "nbconvert_exporter": "python",
   "pygments_lexer": "ipython3",
   "version": "3.13.3"
  }
 },
 "nbformat": 4,
 "nbformat_minor": 2
}
