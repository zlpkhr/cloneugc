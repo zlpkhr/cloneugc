{
 "cells": [
  {
   "cell_type": "code",
   "execution_count": 21,
   "metadata": {},
   "outputs": [
    {
     "name": "stdout",
     "output_type": "stream",
     "text": [
      "Aruco is available.\n"
     ]
    }
   ],
   "source": [
    "import cv2\n",
    "\n",
    "if hasattr(cv2, \"aruco\"):\n",
    "    print(\"Aruco is available.\")\n"
   ]
  },
  {
   "cell_type": "code",
   "execution_count": null,
   "metadata": {},
   "outputs": [
    {
     "name": "stdout",
     "output_type": "stream",
     "text": [
      "✅ Done — with margin only on valid frames, and fallback only when needed.\n"
     ]
    }
   ],
   "source": [
    "import cv2\n",
    "import numpy as np\n",
    "\n",
    "cap = cv2.VideoCapture(\"aruco.mp4\")\n",
    "fps = cap.get(cv2.CAP_PROP_FPS)\n",
    "frame_w = int(cap.get(cv2.CAP_PROP_FRAME_WIDTH))\n",
    "frame_h = int(cap.get(cv2.CAP_PROP_FRAME_HEIGHT))\n",
    "\n",
    "fourcc = cv2.VideoWriter_fourcc(*\"mp4v\")\n",
    "out = cv2.VideoWriter(\"aruco_green_overlay.mp4\", fourcc, fps, (frame_w, frame_h))\n",
    "\n",
    "dictionary = cv2.aruco.getPredefinedDictionary(cv2.aruco.DICT_4X4_50)\n",
    "parameters = cv2.aruco.DetectorParameters()\n",
    "detector = cv2.aruco.ArucoDetector(dictionary, parameters)\n",
    "\n",
    "expected_ids = [0, 1, 2, 3]\n",
    "margin = 10\n",
    "marker_size = 80\n",
    "\n",
    "last_screen_pts = None\n",
    "\n",
    "def shift_corner(corner, dx, dy):\n",
    "    return np.array([corner[0] + dx, corner[1] + dy])\n",
    "\n",
    "while cap.isOpened():\n",
    "    ret, frame = cap.read()\n",
    "    if not ret:\n",
    "        break\n",
    "\n",
    "    overlay = frame.copy()\n",
    "    corners, ids, _ = detector.detectMarkers(frame)\n",
    "\n",
    "    screen_pts = None\n",
    "    has_full_detection = False\n",
    "\n",
    "    if ids is not None and len(ids) >= 4:\n",
    "        detected = {int(id_): corners[i][0] for i, id_ in enumerate(ids.flatten()) if int(id_) in expected_ids}\n",
    "\n",
    "        if all(k in detected for k in expected_ids):\n",
    "            # Get corners of each marker\n",
    "            tl = shift_corner(detected[0][0], -margin, -margin)  # top-left corner of ID 0\n",
    "            tr = shift_corner(detected[1][1], margin, -margin)   # top-right corner of ID 1\n",
    "            br = shift_corner(detected[2][2], margin, margin)    # bottom-right corner of ID 2\n",
    "            bl = shift_corner(detected[3][3], -margin, margin)   # bottom-left corner of ID 3\n",
    "\n",
    "            screen_pts = np.array([tl, tr, br, bl], dtype=np.float32)\n",
    "            last_screen_pts = screen_pts.copy()\n",
    "            has_full_detection = True\n",
    "        else:\n",
    "            screen_pts = last_screen_pts\n",
    "    else:\n",
    "        screen_pts = last_screen_pts\n",
    "\n",
    "    if screen_pts is not None:\n",
    "        screen_pts_int = screen_pts.astype(np.int32)\n",
    "        green_overlay = np.zeros_like(frame)\n",
    "        cv2.fillPoly(green_overlay, [screen_pts_int], (0, 255, 0))\n",
    "\n",
    "        alpha = 0.3\n",
    "        overlay = cv2.addWeighted(frame, 1 - alpha, green_overlay, alpha, 0)\n",
    "\n",
    "        # Draw boundary only when detection was fresh (for debug)\n",
    "        color = (0, 255, 0) if has_full_detection else (0, 180, 255)\n",
    "        cv2.polylines(overlay, [screen_pts_int], True, color, 2)\n",
    "\n",
    "    out.write(overlay)\n",
    "\n",
    "cap.release()\n",
    "out.release()\n",
    "print(\"✅ Done — with margin only on valid frames, and fallback only when needed.\")\n"
   ]
  }
 ],
 "metadata": {
  "kernelspec": {
   "display_name": ".venv",
   "language": "python",
   "name": "python3"
  },
  "language_info": {
   "codemirror_mode": {
    "name": "ipython",
    "version": 3
   },
   "file_extension": ".py",
   "mimetype": "text/x-python",
   "name": "python",
   "nbconvert_exporter": "python",
   "pygments_lexer": "ipython3",
   "version": "3.13.3"
  }
 },
 "nbformat": 4,
 "nbformat_minor": 2
}
