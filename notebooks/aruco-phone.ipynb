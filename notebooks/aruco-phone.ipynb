{
 "cells": [
  {
   "cell_type": "code",
   "execution_count": 7,
   "metadata": {},
   "outputs": [
    {
     "name": "stdout",
     "output_type": "stream",
     "text": [
      "Aruco is available.\n"
     ]
    }
   ],
   "source": [
    "import cv2\n",
    "\n",
    "if hasattr(cv2, \"aruco\"):\n",
    "    print(\"Aruco is available.\")\n"
   ]
  },
  {
   "cell_type": "code",
   "execution_count": 8,
   "metadata": {},
   "outputs": [
    {
     "name": "stdout",
     "output_type": "stream",
     "text": [
      "Video processing complete! Output saved as 'aruco_green_overlay.mp4'\n"
     ]
    }
   ],
   "source": [
    "import cv2\n",
    "import numpy as np\n",
    "\n",
    "# Open video\n",
    "cap = cv2.VideoCapture('aruco.mp4')\n",
    "fps = cap.get(cv2.CAP_PROP_FPS)\n",
    "frame_w = int(cap.get(cv2.CAP_PROP_FRAME_WIDTH))\n",
    "frame_h = int(cap.get(cv2.CAP_PROP_FRAME_HEIGHT))\n",
    "\n",
    "# Setup video writer\n",
    "fourcc = cv2.VideoWriter_fourcc(*'mp4v')\n",
    "out = cv2.VideoWriter('aruco_green_overlay.mp4', fourcc, fps, (frame_w, frame_h))\n",
    "\n",
    "# Setup ArUco detector with latest API\n",
    "dictionary = cv2.aruco.getPredefinedDictionary(cv2.aruco.DICT_4X4_50)\n",
    "parameters = cv2.aruco.DetectorParameters()\n",
    "detector = cv2.aruco.ArucoDetector(dictionary, parameters)\n",
    "\n",
    "# Expected marker IDs at corners (from your booth/cv.py)\n",
    "expected_ids = [0, 1, 2, 3]\n",
    "margin = 10  # The margin you defined in generate_aruco_board_img\n",
    "marker_size = 80  # The marker size you defined\n",
    "\n",
    "while cap.isOpened():\n",
    "    ret, frame = cap.read()\n",
    "    if not ret:\n",
    "        break\n",
    "\n",
    "    # Create a copy for overlay\n",
    "    overlay = frame.copy()\n",
    "    \n",
    "    # Detect ArUco markers\n",
    "    corners, ids, _ = detector.detectMarkers(frame)\n",
    "    \n",
    "    if ids is not None and len(ids) >= 4:\n",
    "        # Check if we have all 4 expected markers\n",
    "        detected_markers = {}\n",
    "        \n",
    "        for i, marker_id in enumerate(ids.flatten()):\n",
    "            if marker_id in expected_ids:\n",
    "                # Get the center of the marker\n",
    "                marker_corners = corners[i][0]\n",
    "                center = np.mean(marker_corners, axis=0)\n",
    "                detected_markers[marker_id] = center\n",
    "        \n",
    "        # If we have all 4 markers, create the screen boundary\n",
    "        if len(detected_markers) == 4:\n",
    "            # Get marker centers in order: [TL, TR, BR, BL]\n",
    "            marker_centers = []\n",
    "            for marker_id in expected_ids:\n",
    "                if marker_id in detected_markers:\n",
    "                    center = detected_markers[marker_id]\n",
    "                    marker_centers.append(center)\n",
    "            \n",
    "            if len(marker_centers) == 4:\n",
    "                # Convert to numpy array\n",
    "                marker_centers = np.array(marker_centers, dtype=np.float32)\n",
    "                \n",
    "                # The markers are at the corners of your board, but we want to extend\n",
    "                # outward by the margin to cover the full screen area\n",
    "                # Marker layout: [TL, TR, BR, BL] based on your booth/cv.py\n",
    "                tl_marker = marker_centers[0]  # Top-left marker center\n",
    "                tr_marker = marker_centers[1]  # Top-right marker center  \n",
    "                br_marker = marker_centers[2]  # Bottom-right marker center\n",
    "                bl_marker = marker_centers[3]  # Bottom-left marker center\n",
    "                \n",
    "                # Extend outward from marker centers to get screen corners\n",
    "                # The markers are positioned at (margin, margin) etc. from screen edges\n",
    "                # So we extend by (margin + marker_size/2) to get to screen edge\n",
    "                extend_distance = margin + marker_size // 2\n",
    "                \n",
    "                # Calculate screen corners by extending from marker centers\n",
    "                tl_screen = tl_marker - [extend_distance, extend_distance]\n",
    "                tr_screen = tr_marker + [extend_distance, -extend_distance]\n",
    "                br_screen = br_marker + [extend_distance, extend_distance]\n",
    "                bl_screen = bl_marker + [-extend_distance, extend_distance]\n",
    "                \n",
    "                screen_corners = np.array([\n",
    "                    tl_screen, tr_screen, br_screen, bl_screen\n",
    "                ], dtype=np.int32)\n",
    "                \n",
    "                # Create green overlay\n",
    "                green_overlay = np.zeros_like(frame)\n",
    "                cv2.fillPoly(green_overlay, [screen_corners], (0, 255, 0))\n",
    "                \n",
    "                # Blend with original frame\n",
    "                alpha = 0.3  # Transparency level\n",
    "                overlay = cv2.addWeighted(frame, 1 - alpha, green_overlay, alpha, 0)\n",
    "                \n",
    "                # Draw screen boundary for visualization\n",
    "                cv2.polylines(overlay, [screen_corners], True, (0, 255, 0), 3)\n",
    "                \n",
    "                # Optionally draw marker centers for debugging\n",
    "                for i, center in enumerate(marker_centers):\n",
    "                    cv2.circle(overlay, tuple(center.astype(int)), 5, (255, 0, 0), -1)\n",
    "                    cv2.putText(overlay, str(expected_ids[i]), \n",
    "                              tuple((center + [10, 10]).astype(int)), \n",
    "                              cv2.FONT_HERSHEY_SIMPLEX, 0.7, (255, 0, 0), 2)\n",
    "\n",
    "    # Write frame\n",
    "    out.write(overlay)\n",
    "\n",
    "# Clean up\n",
    "cap.release()\n",
    "out.release()\n",
    "print(\"Video processing complete! Output saved as 'aruco_green_overlay.mp4'\")"
   ]
  }
 ],
 "metadata": {
  "kernelspec": {
   "display_name": ".venv",
   "language": "python",
   "name": "python3"
  },
  "language_info": {
   "codemirror_mode": {
    "name": "ipython",
    "version": 3
   },
   "file_extension": ".py",
   "mimetype": "text/x-python",
   "name": "python",
   "nbconvert_exporter": "python",
   "pygments_lexer": "ipython3",
   "version": "3.13.3"
  }
 },
 "nbformat": 4,
 "nbformat_minor": 2
}
