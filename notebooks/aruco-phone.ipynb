{
 "cells": [
  {
   "cell_type": "code",
   "execution_count": 15,
   "metadata": {},
   "outputs": [
    {
     "name": "stdout",
     "output_type": "stream",
     "text": [
      "Aruco is available.\n"
     ]
    }
   ],
   "source": [
    "import cv2\n",
    "\n",
    "if hasattr(cv2, \"aruco\"):\n",
    "    print(\"Aruco is available.\")\n"
   ]
  },
  {
   "cell_type": "code",
   "execution_count": 16,
   "metadata": {},
   "outputs": [
    {
     "name": "stdout",
     "output_type": "stream",
     "text": [
      "Done. Saved to aruco_green_overlay.mp4\n"
     ]
    }
   ],
   "source": [
    "import cv2\n",
    "import numpy as np\n",
    "\n",
    "cap = cv2.VideoCapture(\"aruco.mp4\")\n",
    "fps = cap.get(cv2.CAP_PROP_FPS)\n",
    "frame_w = int(cap.get(cv2.CAP_PROP_FRAME_WIDTH))\n",
    "frame_h = int(cap.get(cv2.CAP_PROP_FRAME_HEIGHT))\n",
    "\n",
    "fourcc = cv2.VideoWriter_fourcc(*\"mp4v\")\n",
    "out = cv2.VideoWriter(\"aruco_green_overlay.mp4\", fourcc, fps, (frame_w, frame_h))\n",
    "\n",
    "dictionary = cv2.aruco.getPredefinedDictionary(cv2.aruco.DICT_4X4_50)\n",
    "parameters = cv2.aruco.DetectorParameters()\n",
    "detector = cv2.aruco.ArucoDetector(dictionary, parameters)\n",
    "\n",
    "expected_ids = [0, 1, 2, 3]\n",
    "marker_size = 80\n",
    "margin = 10\n",
    "\n",
    "\n",
    "def shift_corner(corner, dx, dy):\n",
    "    return np.array([corner[0] + dx, corner[1] + dy])\n",
    "\n",
    "\n",
    "while cap.isOpened():\n",
    "    ret, frame = cap.read()\n",
    "    if not ret:\n",
    "        break\n",
    "\n",
    "    overlay = frame.copy()\n",
    "    corners, ids, _ = detector.detectMarkers(frame)\n",
    "\n",
    "    if ids is not None and len(ids) >= 4:\n",
    "        detected = {int(id_): corners[i][0] for i, id_ in enumerate(ids.flatten()) if int(id_) in expected_ids}\n",
    "\n",
    "        if all(k in detected for k in expected_ids):\n",
    "            # Use known corners and apply outward offset\n",
    "            # Marker 0: use corner 0 (top-left) -> shift (-margin, -margin)\n",
    "            # Marker 1: use corner 1 (top-right) -> shift (+margin, -margin)\n",
    "            # Marker 2: use corner 2 (bottom-right) -> shift (+margin, +margin)\n",
    "            # Marker 3: use corner 3 (bottom-left) -> shift (-margin, +margin)\n",
    "\n",
    "            tl = shift_corner(detected[0][0], -margin, -margin)\n",
    "            tr = shift_corner(detected[1][1], margin, -margin)\n",
    "            br = shift_corner(detected[2][2], margin, margin)\n",
    "            bl = shift_corner(detected[3][3], -margin, margin)\n",
    "\n",
    "            screen_pts = np.array([tl, tr, br, bl], dtype=np.int32)\n",
    "\n",
    "            # Draw green overlay\n",
    "            green_overlay = np.zeros_like(frame)\n",
    "            cv2.fillPoly(green_overlay, [screen_pts], (0, 255, 0))\n",
    "\n",
    "            alpha = 0.3\n",
    "            overlay = cv2.addWeighted(frame, 1 - alpha, green_overlay, alpha, 0)\n",
    "\n",
    "            # Draw polygon outline\n",
    "            cv2.polylines(overlay, [screen_pts], True, (0, 255, 0), 2)\n",
    "\n",
    "    out.write(overlay)\n",
    "\n",
    "cap.release()\n",
    "out.release()\n",
    "print(\"Done. Saved to aruco_green_overlay.mp4\")\n"
   ]
  }
 ],
 "metadata": {
  "kernelspec": {
   "display_name": ".venv",
   "language": "python",
   "name": "python3"
  },
  "language_info": {
   "codemirror_mode": {
    "name": "ipython",
    "version": 3
   },
   "file_extension": ".py",
   "mimetype": "text/x-python",
   "name": "python",
   "nbconvert_exporter": "python",
   "pygments_lexer": "ipython3",
   "version": "3.13.3"
  }
 },
 "nbformat": 4,
 "nbformat_minor": 2
}
